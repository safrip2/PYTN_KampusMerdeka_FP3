{
 "cells": [
  {
   "attachments": {},
   "cell_type": "markdown",
   "metadata": {},
   "source": [
    "# Import Library"
   ]
  },
  {
   "cell_type": "code",
   "execution_count": 1,
   "metadata": {},
   "outputs": [],
   "source": [
    "import pandas as pd\n",
    "import numpy as np\n",
    "import statistics\n",
    "import matplotlib as mpl\n",
    "import matplotlib.pyplot as plt\n",
    "import seaborn as sns\n",
    "import pickle\n",
    "from sklearn.ensemble import RandomForestClassifier\n",
    "from sklearn.model_selection import train_test_split\n",
    "from sklearn.metrics import confusion_matrix, classification_report, mean_squared_error\n",
    "from sklearn import preprocessing\n",
    "from sklearn.preprocessing import LabelEncoder, StandardScaler\n",
    "from xgboost.sklearn import XGBClassifier\n",
    "from sklearn.metrics import accuracy_score\n",
    "from sklearn.linear_model import LogisticRegression"
   ]
  },
  {
   "attachments": {},
   "cell_type": "markdown",
   "metadata": {},
   "source": [
    "# Load Dataset & Atribute Description"
   ]
  },
  {
   "cell_type": "code",
   "execution_count": 2,
   "metadata": {},
   "outputs": [
    {
     "data": {
      "text/html": [
       "<div>\n",
       "<style scoped>\n",
       "    .dataframe tbody tr th:only-of-type {\n",
       "        vertical-align: middle;\n",
       "    }\n",
       "\n",
       "    .dataframe tbody tr th {\n",
       "        vertical-align: top;\n",
       "    }\n",
       "\n",
       "    .dataframe thead th {\n",
       "        text-align: right;\n",
       "    }\n",
       "</style>\n",
       "<table border=\"1\" class=\"dataframe\">\n",
       "  <thead>\n",
       "    <tr style=\"text-align: right;\">\n",
       "      <th></th>\n",
       "      <th>age</th>\n",
       "      <th>anaemia</th>\n",
       "      <th>creatinine_phosphokinase</th>\n",
       "      <th>diabetes</th>\n",
       "      <th>ejection_fraction</th>\n",
       "      <th>high_blood_pressure</th>\n",
       "      <th>platelets</th>\n",
       "      <th>serum_creatinine</th>\n",
       "      <th>serum_sodium</th>\n",
       "      <th>sex</th>\n",
       "      <th>smoking</th>\n",
       "      <th>time</th>\n",
       "      <th>DEATH_EVENT</th>\n",
       "    </tr>\n",
       "  </thead>\n",
       "  <tbody>\n",
       "    <tr>\n",
       "      <th>0</th>\n",
       "      <td>75.0</td>\n",
       "      <td>0</td>\n",
       "      <td>582</td>\n",
       "      <td>0</td>\n",
       "      <td>20</td>\n",
       "      <td>1</td>\n",
       "      <td>265000.00</td>\n",
       "      <td>1.9</td>\n",
       "      <td>130</td>\n",
       "      <td>1</td>\n",
       "      <td>0</td>\n",
       "      <td>4</td>\n",
       "      <td>1</td>\n",
       "    </tr>\n",
       "    <tr>\n",
       "      <th>1</th>\n",
       "      <td>55.0</td>\n",
       "      <td>0</td>\n",
       "      <td>7861</td>\n",
       "      <td>0</td>\n",
       "      <td>38</td>\n",
       "      <td>0</td>\n",
       "      <td>263358.03</td>\n",
       "      <td>1.1</td>\n",
       "      <td>136</td>\n",
       "      <td>1</td>\n",
       "      <td>0</td>\n",
       "      <td>6</td>\n",
       "      <td>1</td>\n",
       "    </tr>\n",
       "    <tr>\n",
       "      <th>2</th>\n",
       "      <td>65.0</td>\n",
       "      <td>0</td>\n",
       "      <td>146</td>\n",
       "      <td>0</td>\n",
       "      <td>20</td>\n",
       "      <td>0</td>\n",
       "      <td>162000.00</td>\n",
       "      <td>1.3</td>\n",
       "      <td>129</td>\n",
       "      <td>1</td>\n",
       "      <td>1</td>\n",
       "      <td>7</td>\n",
       "      <td>1</td>\n",
       "    </tr>\n",
       "    <tr>\n",
       "      <th>3</th>\n",
       "      <td>50.0</td>\n",
       "      <td>1</td>\n",
       "      <td>111</td>\n",
       "      <td>0</td>\n",
       "      <td>20</td>\n",
       "      <td>0</td>\n",
       "      <td>210000.00</td>\n",
       "      <td>1.9</td>\n",
       "      <td>137</td>\n",
       "      <td>1</td>\n",
       "      <td>0</td>\n",
       "      <td>7</td>\n",
       "      <td>1</td>\n",
       "    </tr>\n",
       "    <tr>\n",
       "      <th>4</th>\n",
       "      <td>65.0</td>\n",
       "      <td>1</td>\n",
       "      <td>160</td>\n",
       "      <td>1</td>\n",
       "      <td>20</td>\n",
       "      <td>0</td>\n",
       "      <td>327000.00</td>\n",
       "      <td>2.7</td>\n",
       "      <td>116</td>\n",
       "      <td>0</td>\n",
       "      <td>0</td>\n",
       "      <td>8</td>\n",
       "      <td>1</td>\n",
       "    </tr>\n",
       "  </tbody>\n",
       "</table>\n",
       "</div>"
      ],
      "text/plain": [
       "    age  anaemia  creatinine_phosphokinase  diabetes  ejection_fraction  \\\n",
       "0  75.0        0                       582         0                 20   \n",
       "1  55.0        0                      7861         0                 38   \n",
       "2  65.0        0                       146         0                 20   \n",
       "3  50.0        1                       111         0                 20   \n",
       "4  65.0        1                       160         1                 20   \n",
       "\n",
       "   high_blood_pressure  platelets  serum_creatinine  serum_sodium  sex  \\\n",
       "0                    1  265000.00               1.9           130    1   \n",
       "1                    0  263358.03               1.1           136    1   \n",
       "2                    0  162000.00               1.3           129    1   \n",
       "3                    0  210000.00               1.9           137    1   \n",
       "4                    0  327000.00               2.7           116    0   \n",
       "\n",
       "   smoking  time  DEATH_EVENT  \n",
       "0        0     4            1  \n",
       "1        0     6            1  \n",
       "2        1     7            1  \n",
       "3        0     7            1  \n",
       "4        0     8            1  "
      ]
     },
     "execution_count": 2,
     "metadata": {},
     "output_type": "execute_result"
    }
   ],
   "source": [
    "df = pd.read_csv('heart_failure_clinical_records_dataset.csv')\n",
    "df.head(5)"
   ]
  },
  {
   "cell_type": "code",
   "execution_count": 4,
   "metadata": {},
   "outputs": [
    {
     "name": "stdout",
     "output_type": "stream",
     "text": [
      "Dimensi data:\n",
      "299 baris\n",
      "13 kolom\n"
     ]
    }
   ],
   "source": [
    "rows, columns = df.shape\n",
    "print(\"Dimensi data:\")\n",
    "print(rows, \"baris\")\n",
    "print(columns, \"kolom\")"
   ]
  },
  {
   "cell_type": "code",
   "execution_count": 5,
   "metadata": {},
   "outputs": [
    {
     "name": "stdout",
     "output_type": "stream",
     "text": [
      "<class 'pandas.core.frame.DataFrame'>\n",
      "RangeIndex: 299 entries, 0 to 298\n",
      "Data columns (total 13 columns):\n",
      " #   Column                    Non-Null Count  Dtype  \n",
      "---  ------                    --------------  -----  \n",
      " 0   age                       299 non-null    float64\n",
      " 1   anaemia                   299 non-null    int64  \n",
      " 2   creatinine_phosphokinase  299 non-null    int64  \n",
      " 3   diabetes                  299 non-null    int64  \n",
      " 4   ejection_fraction         299 non-null    int64  \n",
      " 5   high_blood_pressure       299 non-null    int64  \n",
      " 6   platelets                 299 non-null    float64\n",
      " 7   serum_creatinine          299 non-null    float64\n",
      " 8   serum_sodium              299 non-null    int64  \n",
      " 9   sex                       299 non-null    int64  \n",
      " 10  smoking                   299 non-null    int64  \n",
      " 11  time                      299 non-null    int64  \n",
      " 12  DEATH_EVENT               299 non-null    int64  \n",
      "dtypes: float64(3), int64(10)\n",
      "memory usage: 30.5 KB\n"
     ]
    }
   ],
   "source": [
    "df.info()"
   ]
  },
  {
   "cell_type": "code",
   "execution_count": 6,
   "metadata": {},
   "outputs": [
    {
     "data": {
      "text/plain": [
       "Index(['age', 'anaemia', 'creatinine_phosphokinase', 'diabetes',\n",
       "       'ejection_fraction', 'high_blood_pressure', 'platelets',\n",
       "       'serum_creatinine', 'serum_sodium', 'sex', 'smoking', 'time',\n",
       "       'DEATH_EVENT'],\n",
       "      dtype='object')"
      ]
     },
     "execution_count": 6,
     "metadata": {},
     "output_type": "execute_result"
    }
   ],
   "source": [
    "df.columns"
   ]
  },
  {
   "cell_type": "code",
   "execution_count": 7,
   "metadata": {},
   "outputs": [
    {
     "name": "stdout",
     "output_type": "stream",
     "text": [
      "age :  47\n",
      "anaemia :  2\n",
      "creatinine_phosphokinase :  208\n",
      "diabetes :  2\n",
      "ejection_fraction :  17\n",
      "high_blood_pressure :  2\n",
      "platelets :  176\n",
      "serum_creatinine :  40\n",
      "serum_sodium :  27\n",
      "sex :  2\n",
      "smoking :  2\n",
      "time :  148\n",
      "DEATH_EVENT :  2\n"
     ]
    }
   ],
   "source": [
    "# check for unique values in each column\n",
    "for col in df.columns:\n",
    "    print(col,': ', df[col].nunique())"
   ]
  },
  {
   "cell_type": "code",
   "execution_count": 8,
   "metadata": {},
   "outputs": [
    {
     "data": {
      "text/plain": [
       "array([75.   , 55.   , 65.   , 50.   , 90.   , 60.   , 80.   , 62.   ,\n",
       "       45.   , 49.   , 82.   , 87.   , 70.   , 48.   , 68.   , 53.   ,\n",
       "       95.   , 58.   , 94.   , 85.   , 69.   , 72.   , 51.   , 57.   ,\n",
       "       42.   , 41.   , 67.   , 79.   , 59.   , 44.   , 63.   , 86.   ,\n",
       "       66.   , 43.   , 46.   , 61.   , 81.   , 52.   , 64.   , 40.   ,\n",
       "       60.667, 73.   , 77.   , 78.   , 54.   , 47.   , 56.   ])"
      ]
     },
     "execution_count": 8,
     "metadata": {},
     "output_type": "execute_result"
    }
   ],
   "source": [
    "# sampling unique values in column 'age'\n",
    "df['age'].unique()"
   ]
  },
  {
   "cell_type": "code",
   "execution_count": 9,
   "metadata": {},
   "outputs": [
    {
     "data": {
      "text/plain": [
       "array([0, 1], dtype=int64)"
      ]
     },
     "execution_count": 9,
     "metadata": {},
     "output_type": "execute_result"
    }
   ],
   "source": [
    "# sampling unique values in column 'anaemia'\n",
    "df['anaemia'].unique()"
   ]
  },
  {
   "cell_type": "code",
   "execution_count": 10,
   "metadata": {},
   "outputs": [
    {
     "data": {
      "text/plain": [
       "array([ 582, 7861,  146,  111,  160,   47,  246,  315,  157,  123,   81,\n",
       "        231,  981,  168,   80,  379,  149,  125,   52,  128,  220,   63,\n",
       "        148,  112,  122,   60,   70,   23,  249,  159,   94,  855, 2656,\n",
       "        235,  124,  571,  127,  588, 1380,  553,  129,  577,   91, 3964,\n",
       "         69,  260,  371,   75,  607,  789,  364, 7702,  318,  109,   68,\n",
       "        250,  110,  161,  113, 5882,  224,   92,  102,  203,  336,   76,\n",
       "         55,  280,   78,   84,  115,   66,  897,  154,  144,  133,  514,\n",
       "         59,  156,   61,  305,  898, 5209,   53,  328,  748, 1876,  936,\n",
       "        292,  369,  143,  754,  400,   96,  737,  358,  200,  248,  270,\n",
       "       1808, 1082,  719,  193, 4540,  646,  281, 1548,  805,  291,  482,\n",
       "        943,  185,  132, 1610, 2261,  233,   30, 1846,  335,   58,  910,\n",
       "         72,  130, 2334, 2442,  776,  196,  835, 3966,  171,  198,   95,\n",
       "       1419,  478,  176,  395,   99,  145,  104, 1896,  151,  244,   62,\n",
       "        121,  418,  167, 1211, 1767,  308,   97,   64,  101,  212, 2281,\n",
       "        972,  131,  135, 1202,  427, 1021,  118,   86,  675,   57, 2794,\n",
       "         56,  211,  166,   93,  707,  119,  232,  720,  180,   90, 1185,\n",
       "       2017,  624,  207, 2522,  572,  245,   88,  446,  191,  326,  655,\n",
       "        258,  298, 1199,  213,  257,  618, 1051, 2695, 1688,   54,  170,\n",
       "        253,  892,  337,  615,  320,  190,  103, 1820, 2060, 2413],\n",
       "      dtype=int64)"
      ]
     },
     "execution_count": 10,
     "metadata": {},
     "output_type": "execute_result"
    }
   ],
   "source": [
    "# sampling unique values in column 'creatinine_phosphokinase'\n",
    "df['creatinine_phosphokinase'].unique()"
   ]
  },
  {
   "cell_type": "code",
   "execution_count": 11,
   "metadata": {},
   "outputs": [
    {
     "data": {
      "text/html": [
       "<div>\n",
       "<style scoped>\n",
       "    .dataframe tbody tr th:only-of-type {\n",
       "        vertical-align: middle;\n",
       "    }\n",
       "\n",
       "    .dataframe tbody tr th {\n",
       "        vertical-align: top;\n",
       "    }\n",
       "\n",
       "    .dataframe thead th {\n",
       "        text-align: right;\n",
       "    }\n",
       "</style>\n",
       "<table border=\"1\" class=\"dataframe\">\n",
       "  <thead>\n",
       "    <tr style=\"text-align: right;\">\n",
       "      <th></th>\n",
       "      <th>age</th>\n",
       "      <th>anaemia</th>\n",
       "      <th>creatinine_phosphokinase</th>\n",
       "      <th>diabetes</th>\n",
       "      <th>ejection_fraction</th>\n",
       "      <th>high_blood_pressure</th>\n",
       "      <th>platelets</th>\n",
       "      <th>serum_creatinine</th>\n",
       "      <th>serum_sodium</th>\n",
       "      <th>sex</th>\n",
       "      <th>smoking</th>\n",
       "      <th>time</th>\n",
       "      <th>DEATH_EVENT</th>\n",
       "    </tr>\n",
       "  </thead>\n",
       "  <tbody>\n",
       "    <tr>\n",
       "      <th>count</th>\n",
       "      <td>299.000000</td>\n",
       "      <td>299.000000</td>\n",
       "      <td>299.000000</td>\n",
       "      <td>299.000000</td>\n",
       "      <td>299.000000</td>\n",
       "      <td>299.000000</td>\n",
       "      <td>299.000000</td>\n",
       "      <td>299.00000</td>\n",
       "      <td>299.000000</td>\n",
       "      <td>299.000000</td>\n",
       "      <td>299.00000</td>\n",
       "      <td>299.000000</td>\n",
       "      <td>299.00000</td>\n",
       "    </tr>\n",
       "    <tr>\n",
       "      <th>mean</th>\n",
       "      <td>60.833893</td>\n",
       "      <td>0.431438</td>\n",
       "      <td>581.839465</td>\n",
       "      <td>0.418060</td>\n",
       "      <td>38.083612</td>\n",
       "      <td>0.351171</td>\n",
       "      <td>263358.029264</td>\n",
       "      <td>1.39388</td>\n",
       "      <td>136.625418</td>\n",
       "      <td>0.648829</td>\n",
       "      <td>0.32107</td>\n",
       "      <td>130.260870</td>\n",
       "      <td>0.32107</td>\n",
       "    </tr>\n",
       "    <tr>\n",
       "      <th>std</th>\n",
       "      <td>11.894809</td>\n",
       "      <td>0.496107</td>\n",
       "      <td>970.287881</td>\n",
       "      <td>0.494067</td>\n",
       "      <td>11.834841</td>\n",
       "      <td>0.478136</td>\n",
       "      <td>97804.236869</td>\n",
       "      <td>1.03451</td>\n",
       "      <td>4.412477</td>\n",
       "      <td>0.478136</td>\n",
       "      <td>0.46767</td>\n",
       "      <td>77.614208</td>\n",
       "      <td>0.46767</td>\n",
       "    </tr>\n",
       "    <tr>\n",
       "      <th>min</th>\n",
       "      <td>40.000000</td>\n",
       "      <td>0.000000</td>\n",
       "      <td>23.000000</td>\n",
       "      <td>0.000000</td>\n",
       "      <td>14.000000</td>\n",
       "      <td>0.000000</td>\n",
       "      <td>25100.000000</td>\n",
       "      <td>0.50000</td>\n",
       "      <td>113.000000</td>\n",
       "      <td>0.000000</td>\n",
       "      <td>0.00000</td>\n",
       "      <td>4.000000</td>\n",
       "      <td>0.00000</td>\n",
       "    </tr>\n",
       "    <tr>\n",
       "      <th>25%</th>\n",
       "      <td>51.000000</td>\n",
       "      <td>0.000000</td>\n",
       "      <td>116.500000</td>\n",
       "      <td>0.000000</td>\n",
       "      <td>30.000000</td>\n",
       "      <td>0.000000</td>\n",
       "      <td>212500.000000</td>\n",
       "      <td>0.90000</td>\n",
       "      <td>134.000000</td>\n",
       "      <td>0.000000</td>\n",
       "      <td>0.00000</td>\n",
       "      <td>73.000000</td>\n",
       "      <td>0.00000</td>\n",
       "    </tr>\n",
       "    <tr>\n",
       "      <th>50%</th>\n",
       "      <td>60.000000</td>\n",
       "      <td>0.000000</td>\n",
       "      <td>250.000000</td>\n",
       "      <td>0.000000</td>\n",
       "      <td>38.000000</td>\n",
       "      <td>0.000000</td>\n",
       "      <td>262000.000000</td>\n",
       "      <td>1.10000</td>\n",
       "      <td>137.000000</td>\n",
       "      <td>1.000000</td>\n",
       "      <td>0.00000</td>\n",
       "      <td>115.000000</td>\n",
       "      <td>0.00000</td>\n",
       "    </tr>\n",
       "    <tr>\n",
       "      <th>75%</th>\n",
       "      <td>70.000000</td>\n",
       "      <td>1.000000</td>\n",
       "      <td>582.000000</td>\n",
       "      <td>1.000000</td>\n",
       "      <td>45.000000</td>\n",
       "      <td>1.000000</td>\n",
       "      <td>303500.000000</td>\n",
       "      <td>1.40000</td>\n",
       "      <td>140.000000</td>\n",
       "      <td>1.000000</td>\n",
       "      <td>1.00000</td>\n",
       "      <td>203.000000</td>\n",
       "      <td>1.00000</td>\n",
       "    </tr>\n",
       "    <tr>\n",
       "      <th>max</th>\n",
       "      <td>95.000000</td>\n",
       "      <td>1.000000</td>\n",
       "      <td>7861.000000</td>\n",
       "      <td>1.000000</td>\n",
       "      <td>80.000000</td>\n",
       "      <td>1.000000</td>\n",
       "      <td>850000.000000</td>\n",
       "      <td>9.40000</td>\n",
       "      <td>148.000000</td>\n",
       "      <td>1.000000</td>\n",
       "      <td>1.00000</td>\n",
       "      <td>285.000000</td>\n",
       "      <td>1.00000</td>\n",
       "    </tr>\n",
       "  </tbody>\n",
       "</table>\n",
       "</div>"
      ],
      "text/plain": [
       "              age     anaemia  creatinine_phosphokinase    diabetes  \\\n",
       "count  299.000000  299.000000                299.000000  299.000000   \n",
       "mean    60.833893    0.431438                581.839465    0.418060   \n",
       "std     11.894809    0.496107                970.287881    0.494067   \n",
       "min     40.000000    0.000000                 23.000000    0.000000   \n",
       "25%     51.000000    0.000000                116.500000    0.000000   \n",
       "50%     60.000000    0.000000                250.000000    0.000000   \n",
       "75%     70.000000    1.000000                582.000000    1.000000   \n",
       "max     95.000000    1.000000               7861.000000    1.000000   \n",
       "\n",
       "       ejection_fraction  high_blood_pressure      platelets  \\\n",
       "count         299.000000           299.000000     299.000000   \n",
       "mean           38.083612             0.351171  263358.029264   \n",
       "std            11.834841             0.478136   97804.236869   \n",
       "min            14.000000             0.000000   25100.000000   \n",
       "25%            30.000000             0.000000  212500.000000   \n",
       "50%            38.000000             0.000000  262000.000000   \n",
       "75%            45.000000             1.000000  303500.000000   \n",
       "max            80.000000             1.000000  850000.000000   \n",
       "\n",
       "       serum_creatinine  serum_sodium         sex    smoking        time  \\\n",
       "count         299.00000    299.000000  299.000000  299.00000  299.000000   \n",
       "mean            1.39388    136.625418    0.648829    0.32107  130.260870   \n",
       "std             1.03451      4.412477    0.478136    0.46767   77.614208   \n",
       "min             0.50000    113.000000    0.000000    0.00000    4.000000   \n",
       "25%             0.90000    134.000000    0.000000    0.00000   73.000000   \n",
       "50%             1.10000    137.000000    1.000000    0.00000  115.000000   \n",
       "75%             1.40000    140.000000    1.000000    1.00000  203.000000   \n",
       "max             9.40000    148.000000    1.000000    1.00000  285.000000   \n",
       "\n",
       "       DEATH_EVENT  \n",
       "count    299.00000  \n",
       "mean       0.32107  \n",
       "std        0.46767  \n",
       "min        0.00000  \n",
       "25%        0.00000  \n",
       "50%        0.00000  \n",
       "75%        1.00000  \n",
       "max        1.00000  "
      ]
     },
     "execution_count": 11,
     "metadata": {},
     "output_type": "execute_result"
    }
   ],
   "source": [
    "df.describe()"
   ]
  },
  {
   "attachments": {},
   "cell_type": "markdown",
   "metadata": {},
   "source": [
    "# Data Cleaning"
   ]
  },
  {
   "cell_type": "code",
   "execution_count": 12,
   "metadata": {},
   "outputs": [
    {
     "data": {
      "text/plain": [
       "0"
      ]
     },
     "execution_count": 12,
     "metadata": {},
     "output_type": "execute_result"
    }
   ],
   "source": [
    "# check for duplicate data\n",
    "df.duplicated().sum()"
   ]
  },
  {
   "cell_type": "code",
   "execution_count": 13,
   "metadata": {},
   "outputs": [
    {
     "data": {
      "text/plain": [
       "age                         0\n",
       "anaemia                     0\n",
       "creatinine_phosphokinase    0\n",
       "diabetes                    0\n",
       "ejection_fraction           0\n",
       "high_blood_pressure         0\n",
       "platelets                   0\n",
       "serum_creatinine            0\n",
       "serum_sodium                0\n",
       "sex                         0\n",
       "smoking                     0\n",
       "time                        0\n",
       "DEATH_EVENT                 0\n",
       "dtype: int64"
      ]
     },
     "execution_count": 13,
     "metadata": {},
     "output_type": "execute_result"
    }
   ],
   "source": [
    "# check for missing values\n",
    "df.isnull().sum().sort_values()"
   ]
  },
  {
   "attachments": {},
   "cell_type": "markdown",
   "metadata": {},
   "source": [
    "dataset yang dimiliki sudah bersih sehingga bisa langsung diproses"
   ]
  },
  {
   "attachments": {},
   "cell_type": "markdown",
   "metadata": {},
   "source": [
    "# Data Exploration"
   ]
  },
  {
   "attachments": {},
   "cell_type": "markdown",
   "metadata": {},
   "source": [
    "melihat distribusi death event dari atribut *sex, smoking, diabetes, anaemia*, dan *high_blood_pressure*"
   ]
  },
  {
   "cell_type": "code",
   "execution_count": 14,
   "metadata": {},
   "outputs": [],
   "source": [
    "df_e = df.copy()"
   ]
  },
  {
   "cell_type": "code",
   "execution_count": 16,
   "metadata": {},
   "outputs": [],
   "source": [
    "# decode categorical data\n",
    "df_e['DEATH_EVENT'].replace({0:'Bertahan hidup', 1: 'Tidak Bertahan hidup'}, inplace=True)\n",
    "df_e['sex'].replace({0:'Wanita', 1:'Pria'}, inplace=True)\n",
    "df_e['smoking'].replace({0:'Tidak Merokok', 1:'Merokok'}, inplace=True)\n",
    "df_e['diabetes'].replace({0:'Tidak Memiliki Diabetes', 1:'Memiliki Diabetes'}, inplace=True)\n",
    "df_e['anaemia'].replace({0:'Tidak Memiliki Anemia', 1:'Memiliki Anemia'}, inplace=True)\n",
    "df_e['high_blood_pressure'].replace({0:'Tidak memiliki Hipertensi', 1:'Memiliki Hipertensi'}, inplace=True)"
   ]
  },
  {
   "cell_type": "code",
   "execution_count": 17,
   "metadata": {},
   "outputs": [
    {
     "data": {
      "text/plain": [
       "Bertahan hidup          203\n",
       "Tidak Bertahan hidup     96\n",
       "Name: DEATH_EVENT, dtype: int64"
      ]
     },
     "execution_count": 17,
     "metadata": {},
     "output_type": "execute_result"
    }
   ],
   "source": [
    "df_e['DEATH_EVENT'].value_counts()"
   ]
  },
  {
   "attachments": {},
   "cell_type": "markdown",
   "metadata": {},
   "source": [
    "dapat terlihat bahwa terdapat 203 manusia yang selamat dan 96 manusia yang tidak selamat dari penyakit kardiovascular"
   ]
  },
  {
   "cell_type": "code",
   "execution_count": 18,
   "metadata": {},
   "outputs": [
    {
     "data": {
      "image/png": "[encoded data removed]",
      "text/plain": [
       "<Figure size 576x432 with 1 Axes>"
      ]
     },
     "metadata": {
      "needs_background": "light"
     },
     "output_type": "display_data"
    }
   ],
   "source": [
    "plt.figure(figsize=(8, 6))\n",
    " \n",
    "plt.title('Distribusi Death event', fontsize=18 , fontweight='bold')\n",
    "plt.grid(axis='y', alpha=0.5)\n",
    "sns.countplot(x ='DEATH_EVENT', data = df_e, palette = ['#DC143C', \"#008000\"], edgecolor = \"black\", linewidth =1)\n",
    "\n",
    "plt.show()"
   ]
  },
  {
   "attachments": {},
   "cell_type": "markdown",
   "metadata": {},
   "source": [
    "Analisis : Menurut data dapat dilihat bahwa data orang-orang yang bertahan hidup lebih tinggi dibandingkan orang-orang yang tidak dapat bertahan hidup saat mengalami penyakit  kardiovaskular"
   ]
  },
  {
   "attachments": {},
   "cell_type": "markdown",
   "metadata": {},
   "source": [
    "**Q**: bagaimana distribusi penyakit kardiovaskular berdasarkan jenis kelamin?"
   ]
  },
  {
   "cell_type": "code",
   "execution_count": 19,
   "metadata": {},
   "outputs": [
    {
     "data": {
      "text/plain": [
       "Pria      194\n",
       "Wanita    105\n",
       "Name: sex, dtype: int64"
      ]
     },
     "execution_count": 19,
     "metadata": {},
     "output_type": "execute_result"
    }
   ],
   "source": [
    "df_e['sex'].value_counts()"
   ]
  },
  {
   "cell_type": "code",
   "execution_count": 21,
   "metadata": {},
   "outputs": [
    {
     "data": {
      "image/png": "[encoded data removed]",
      "text/plain": [
       "<Figure size 576x432 with 1 Axes>"
      ]
     },
     "metadata": {
      "needs_background": "light"
     },
     "output_type": "display_data"
    }
   ],
   "source": [
    "plt.figure(figsize=(8, 6))\n",
    " \n",
    "plt.title('Distribusi Kardiovaskular berdasarkan sex', fontsize=18 , fontweight='bold')\n",
    "plt.grid(axis='y', alpha=0.5)\n",
    "sns.countplot(x ='sex', data = df_e, palette = ['#1E90FF', \"#FF1493\"], edgecolor = \"black\", linewidth =1)\n",
    "\n",
    "plt.show()"
   ]
  },
  {
   "attachments": {},
   "cell_type": "markdown",
   "metadata": {},
   "source": [
    "**A**: Pria lebih banyak mengalami penyakit kardiovaskular dibandingkan wanita"
   ]
  },
  {
   "attachments": {},
   "cell_type": "markdown",
   "metadata": {},
   "source": [
    "**Q**: bagaimana distribusi penyakit kardiovaskular berdasarkan riwayat merokok?"
   ]
  },
  {
   "cell_type": "code",
   "execution_count": 22,
   "metadata": {},
   "outputs": [
    {
     "data": {
      "text/plain": [
       "Tidak Merokok    203\n",
       "Merokok           96\n",
       "Name: smoking, dtype: int64"
      ]
     },
     "execution_count": 22,
     "metadata": {},
     "output_type": "execute_result"
    }
   ],
   "source": [
    "df_e['smoking'].value_counts()"
   ]
  },
  {
   "cell_type": "code",
   "execution_count": 23,
   "metadata": {},
   "outputs": [
    {
     "data": {
      "image/png": "[encoded data removed]",
      "text/plain": [
       "<Figure size 576x432 with 1 Axes>"
      ]
     },
     "metadata": {
      "needs_background": "light"
     },
     "output_type": "display_data"
    }
   ],
   "source": [
    "plt.figure(figsize=(8, 6))\n",
    " \n",
    "plt.title('Distribusi Death event', fontsize=18 , fontweight='bold')\n",
    "plt.grid(axis='y', alpha=0.5)\n",
    "sns.countplot(x ='smoking', data = df_e, palette = ['#DC143C', \"#008000\"], edgecolor = \"black\", linewidth =1)\n",
    "\n",
    "plt.show()"
   ]
  },
  {
   "attachments": {},
   "cell_type": "markdown",
   "metadata": {},
   "source": [
    "**A** : Menurut data, dapat dilihat bahwa pasien yang tidak merokok lebih banyak mengalami penyakit kardiovaskular dibandingkan dengan pasien yang merokok"
   ]
  },
  {
   "attachments": {},
   "cell_type": "markdown",
   "metadata": {},
   "source": [
    "**Q:** Berapa banyak pasien kardiovaskular yang memiliki riwayat diabetes dan yang tidak?"
   ]
  },
  {
   "cell_type": "code",
   "execution_count": 24,
   "metadata": {},
   "outputs": [
    {
     "data": {
      "text/plain": [
       "Tidak Memiliki Diabetes    174\n",
       "Memiliki Diabetes          125\n",
       "Name: diabetes, dtype: int64"
      ]
     },
     "execution_count": 24,
     "metadata": {},
     "output_type": "execute_result"
    }
   ],
   "source": [
    "df_e['diabetes'].value_counts()"
   ]
  },
  {
   "cell_type": "code",
   "execution_count": 25,
   "metadata": {},
   "outputs": [
    {
     "data": {
      "image/png": "[encoded data removed]",
      "text/plain": [
       "<Figure size 576x432 with 1 Axes>"
      ]
     },
     "metadata": {
      "needs_background": "light"
     },
     "output_type": "display_data"
    }
   ],
   "source": [
    "plt.figure(figsize=(8, 6))\n",
    " \n",
    "plt.title('Distribusi Death event', fontsize=18 , fontweight='bold')\n",
    "plt.grid(axis='y', alpha=0.5)\n",
    "sns.countplot(x ='diabetes', data = df_e, palette = ['#DC143C', \"#008000\"], edgecolor = \"black\", linewidth =1)\n",
    "\n",
    "plt.show()"
   ]
  },
  {
   "attachments": {},
   "cell_type": "markdown",
   "metadata": {},
   "source": [
    "Analisis : Menurut data, dapat dilihat bahwa pasien yang tidak mengalami diabetes lebih banyak dibandingkan pasien yang memiliki riwayat diabetes"
   ]
  },
  {
   "attachments": {},
   "cell_type": "markdown",
   "metadata": {},
   "source": [
    "**Questions :** Berapa banyak pasien kardiovaskular yang mengalami anaemia dan yang tidak?"
   ]
  },
  {
   "cell_type": "code",
   "execution_count": 26,
   "metadata": {},
   "outputs": [
    {
     "data": {
      "text/plain": [
       "Tidak Memiliki Anemia    170\n",
       "Memiliki Anemia          129\n",
       "Name: anaemia, dtype: int64"
      ]
     },
     "execution_count": 26,
     "metadata": {},
     "output_type": "execute_result"
    }
   ],
   "source": [
    "df_e['anaemia'].value_counts()"
   ]
  },
  {
   "cell_type": "code",
   "execution_count": 27,
   "metadata": {},
   "outputs": [
    {
     "data": {
      "image/png": "[encoded data removed]",
      "text/plain": [
       "<Figure size 576x432 with 1 Axes>"
      ]
     },
     "metadata": {
      "needs_background": "light"
     },
     "output_type": "display_data"
    }
   ],
   "source": [
    "plt.figure(figsize=(8, 6))\n",
    " \n",
    "plt.title('Distribusi Death event', fontsize=18 , fontweight='bold')\n",
    "plt.grid(axis='y', alpha=0.5)\n",
    "sns.countplot(x ='anaemia', data = df_e, palette = ['#DC143C', \"#008000\"], edgecolor = \"black\", linewidth =1)\n",
    "\n",
    "plt.show()"
   ]
  },
  {
   "attachments": {},
   "cell_type": "markdown",
   "metadata": {},
   "source": [
    "Analisis : Menurut data, dapat dilihat bahwa pasien yang tidak mengalami anaemia lebih banyak dibandingkan pasien yang mengalami anaemia"
   ]
  },
  {
   "attachments": {},
   "cell_type": "markdown",
   "metadata": {},
   "source": [
    "**Questions :** Berapa banyak pasien yang memiliki riwayat darah tinggi dan yang tidak?"
   ]
  },
  {
   "cell_type": "code",
   "execution_count": 28,
   "metadata": {},
   "outputs": [
    {
     "data": {
      "text/plain": [
       "Tidak memiliki Hipertensi    194\n",
       "Memiliki Hipertensi          105\n",
       "Name: high_blood_pressure, dtype: int64"
      ]
     },
     "execution_count": 28,
     "metadata": {},
     "output_type": "execute_result"
    }
   ],
   "source": [
    "df_e['high_blood_pressure'].value_counts()"
   ]
  },
  {
   "cell_type": "code",
   "execution_count": 29,
   "metadata": {},
   "outputs": [
    {
     "data": {
      "image/png": "[encoded data removed]",
      "text/plain": [
       "<Figure size 576x432 with 1 Axes>"
      ]
     },
     "metadata": {
      "needs_background": "light"
     },
     "output_type": "display_data"
    }
   ],
   "source": [
    "plt.figure(figsize=(8, 6))\n",
    " \n",
    "plt.title('Distribusi Death event', fontsize=18 , fontweight='bold')\n",
    "plt.grid(axis='y', alpha=0.5)\n",
    "sns.countplot(x ='high_blood_pressure', data = df_e, palette = [\"#008000\",'#DC143C'], edgecolor = \"black\", linewidth =1)\n",
    "\n",
    "plt.show()"
   ]
  },
  {
   "attachments": {},
   "cell_type": "markdown",
   "metadata": {},
   "source": [
    "Analisis : Menurut data, dapat dilihat bahwa pasien yang tidak mengalami darah tinggi lebah banyak dibandingkan pasien yang memiliki riwayat darah tinggi"
   ]
  },
  {
   "attachments": {},
   "cell_type": "markdown",
   "metadata": {},
   "source": [
    "### Analisis Korelasi"
   ]
  },
  {
   "cell_type": "code",
   "execution_count": 31,
   "metadata": {},
   "outputs": [
    {
     "data": {
      "text/html": [
       "<div>\n",
       "<style scoped>\n",
       "    .dataframe tbody tr th:only-of-type {\n",
       "        vertical-align: middle;\n",
       "    }\n",
       "\n",
       "    .dataframe tbody tr th {\n",
       "        vertical-align: top;\n",
       "    }\n",
       "\n",
       "    .dataframe thead th {\n",
       "        text-align: right;\n",
       "    }\n",
       "</style>\n",
       "<table border=\"1\" class=\"dataframe\">\n",
       "  <thead>\n",
       "    <tr style=\"text-align: right;\">\n",
       "      <th></th>\n",
       "      <th>age</th>\n",
       "      <th>anaemia</th>\n",
       "      <th>creatinine_phosphokinase</th>\n",
       "      <th>diabetes</th>\n",
       "      <th>ejection_fraction</th>\n",
       "      <th>high_blood_pressure</th>\n",
       "      <th>platelets</th>\n",
       "      <th>serum_creatinine</th>\n",
       "      <th>serum_sodium</th>\n",
       "      <th>sex</th>\n",
       "      <th>smoking</th>\n",
       "      <th>time</th>\n",
       "      <th>DEATH_EVENT</th>\n",
       "    </tr>\n",
       "  </thead>\n",
       "  <tbody>\n",
       "    <tr>\n",
       "      <th>age</th>\n",
       "      <td>1.000000</td>\n",
       "      <td>0.088006</td>\n",
       "      <td>-0.081584</td>\n",
       "      <td>-0.101012</td>\n",
       "      <td>0.060098</td>\n",
       "      <td>0.093289</td>\n",
       "      <td>-0.052354</td>\n",
       "      <td>0.159187</td>\n",
       "      <td>-0.045966</td>\n",
       "      <td>0.065430</td>\n",
       "      <td>0.018668</td>\n",
       "      <td>-0.224068</td>\n",
       "      <td>0.253729</td>\n",
       "    </tr>\n",
       "    <tr>\n",
       "      <th>anaemia</th>\n",
       "      <td>0.088006</td>\n",
       "      <td>1.000000</td>\n",
       "      <td>-0.190741</td>\n",
       "      <td>-0.012729</td>\n",
       "      <td>0.031557</td>\n",
       "      <td>0.038182</td>\n",
       "      <td>-0.043786</td>\n",
       "      <td>0.052174</td>\n",
       "      <td>0.041882</td>\n",
       "      <td>-0.094769</td>\n",
       "      <td>-0.107290</td>\n",
       "      <td>-0.141414</td>\n",
       "      <td>0.066270</td>\n",
       "    </tr>\n",
       "    <tr>\n",
       "      <th>creatinine_phosphokinase</th>\n",
       "      <td>-0.081584</td>\n",
       "      <td>-0.190741</td>\n",
       "      <td>1.000000</td>\n",
       "      <td>-0.009639</td>\n",
       "      <td>-0.044080</td>\n",
       "      <td>-0.070590</td>\n",
       "      <td>0.024463</td>\n",
       "      <td>-0.016408</td>\n",
       "      <td>0.059550</td>\n",
       "      <td>0.079791</td>\n",
       "      <td>0.002421</td>\n",
       "      <td>-0.009346</td>\n",
       "      <td>0.062728</td>\n",
       "    </tr>\n",
       "    <tr>\n",
       "      <th>diabetes</th>\n",
       "      <td>-0.101012</td>\n",
       "      <td>-0.012729</td>\n",
       "      <td>-0.009639</td>\n",
       "      <td>1.000000</td>\n",
       "      <td>-0.004850</td>\n",
       "      <td>-0.012732</td>\n",
       "      <td>0.092193</td>\n",
       "      <td>-0.046975</td>\n",
       "      <td>-0.089551</td>\n",
       "      <td>-0.157730</td>\n",
       "      <td>-0.147173</td>\n",
       "      <td>0.033726</td>\n",
       "      <td>-0.001943</td>\n",
       "    </tr>\n",
       "    <tr>\n",
       "      <th>ejection_fraction</th>\n",
       "      <td>0.060098</td>\n",
       "      <td>0.031557</td>\n",
       "      <td>-0.044080</td>\n",
       "      <td>-0.004850</td>\n",
       "      <td>1.000000</td>\n",
       "      <td>0.024445</td>\n",
       "      <td>0.072177</td>\n",
       "      <td>-0.011302</td>\n",
       "      <td>0.175902</td>\n",
       "      <td>-0.148386</td>\n",
       "      <td>-0.067315</td>\n",
       "      <td>0.041729</td>\n",
       "      <td>-0.268603</td>\n",
       "    </tr>\n",
       "    <tr>\n",
       "      <th>high_blood_pressure</th>\n",
       "      <td>0.093289</td>\n",
       "      <td>0.038182</td>\n",
       "      <td>-0.070590</td>\n",
       "      <td>-0.012732</td>\n",
       "      <td>0.024445</td>\n",
       "      <td>1.000000</td>\n",
       "      <td>0.049963</td>\n",
       "      <td>-0.004935</td>\n",
       "      <td>0.037109</td>\n",
       "      <td>-0.104615</td>\n",
       "      <td>-0.055711</td>\n",
       "      <td>-0.196439</td>\n",
       "      <td>0.079351</td>\n",
       "    </tr>\n",
       "    <tr>\n",
       "      <th>platelets</th>\n",
       "      <td>-0.052354</td>\n",
       "      <td>-0.043786</td>\n",
       "      <td>0.024463</td>\n",
       "      <td>0.092193</td>\n",
       "      <td>0.072177</td>\n",
       "      <td>0.049963</td>\n",
       "      <td>1.000000</td>\n",
       "      <td>-0.041198</td>\n",
       "      <td>0.062125</td>\n",
       "      <td>-0.125120</td>\n",
       "      <td>0.028234</td>\n",
       "      <td>0.010514</td>\n",
       "      <td>-0.049139</td>\n",
       "    </tr>\n",
       "    <tr>\n",
       "      <th>serum_creatinine</th>\n",
       "      <td>0.159187</td>\n",
       "      <td>0.052174</td>\n",
       "      <td>-0.016408</td>\n",
       "      <td>-0.046975</td>\n",
       "      <td>-0.011302</td>\n",
       "      <td>-0.004935</td>\n",
       "      <td>-0.041198</td>\n",
       "      <td>1.000000</td>\n",
       "      <td>-0.189095</td>\n",
       "      <td>0.006970</td>\n",
       "      <td>-0.027414</td>\n",
       "      <td>-0.149315</td>\n",
       "      <td>0.294278</td>\n",
       "    </tr>\n",
       "    <tr>\n",
       "      <th>serum_sodium</th>\n",
       "      <td>-0.045966</td>\n",
       "      <td>0.041882</td>\n",
       "      <td>0.059550</td>\n",
       "      <td>-0.089551</td>\n",
       "      <td>0.175902</td>\n",
       "      <td>0.037109</td>\n",
       "      <td>0.062125</td>\n",
       "      <td>-0.189095</td>\n",
       "      <td>1.000000</td>\n",
       "      <td>-0.027566</td>\n",
       "      <td>0.004813</td>\n",
       "      <td>0.087640</td>\n",
       "      <td>-0.195204</td>\n",
       "    </tr>\n",
       "    <tr>\n",
       "      <th>sex</th>\n",
       "      <td>0.065430</td>\n",
       "      <td>-0.094769</td>\n",
       "      <td>0.079791</td>\n",
       "      <td>-0.157730</td>\n",
       "      <td>-0.148386</td>\n",
       "      <td>-0.104615</td>\n",
       "      <td>-0.125120</td>\n",
       "      <td>0.006970</td>\n",
       "      <td>-0.027566</td>\n",
       "      <td>1.000000</td>\n",
       "      <td>0.445892</td>\n",
       "      <td>-0.015608</td>\n",
       "      <td>-0.004316</td>\n",
       "    </tr>\n",
       "    <tr>\n",
       "      <th>smoking</th>\n",
       "      <td>0.018668</td>\n",
       "      <td>-0.107290</td>\n",
       "      <td>0.002421</td>\n",
       "      <td>-0.147173</td>\n",
       "      <td>-0.067315</td>\n",
       "      <td>-0.055711</td>\n",
       "      <td>0.028234</td>\n",
       "      <td>-0.027414</td>\n",
       "      <td>0.004813</td>\n",
       "      <td>0.445892</td>\n",
       "      <td>1.000000</td>\n",
       "      <td>-0.022839</td>\n",
       "      <td>-0.012623</td>\n",
       "    </tr>\n",
       "    <tr>\n",
       "      <th>time</th>\n",
       "      <td>-0.224068</td>\n",
       "      <td>-0.141414</td>\n",
       "      <td>-0.009346</td>\n",
       "      <td>0.033726</td>\n",
       "      <td>0.041729</td>\n",
       "      <td>-0.196439</td>\n",
       "      <td>0.010514</td>\n",
       "      <td>-0.149315</td>\n",
       "      <td>0.087640</td>\n",
       "      <td>-0.015608</td>\n",
       "      <td>-0.022839</td>\n",
       "      <td>1.000000</td>\n",
       "      <td>-0.526964</td>\n",
       "    </tr>\n",
       "    <tr>\n",
       "      <th>DEATH_EVENT</th>\n",
       "      <td>0.253729</td>\n",
       "      <td>0.066270</td>\n",
       "      <td>0.062728</td>\n",
       "      <td>-0.001943</td>\n",
       "      <td>-0.268603</td>\n",
       "      <td>0.079351</td>\n",
       "      <td>-0.049139</td>\n",
       "      <td>0.294278</td>\n",
       "      <td>-0.195204</td>\n",
       "      <td>-0.004316</td>\n",
       "      <td>-0.012623</td>\n",
       "      <td>-0.526964</td>\n",
       "      <td>1.000000</td>\n",
       "    </tr>\n",
       "  </tbody>\n",
       "</table>\n",
       "</div>"
      ],
      "text/plain": [
       "                               age   anaemia  creatinine_phosphokinase  \\\n",
       "age                       1.000000  0.088006                 -0.081584   \n",
       "anaemia                   0.088006  1.000000                 -0.190741   \n",
       "creatinine_phosphokinase -0.081584 -0.190741                  1.000000   \n",
       "diabetes                 -0.101012 -0.012729                 -0.009639   \n",
       "ejection_fraction         0.060098  0.031557                 -0.044080   \n",
       "high_blood_pressure       0.093289  0.038182                 -0.070590   \n",
       "platelets                -0.052354 -0.043786                  0.024463   \n",
       "serum_creatinine          0.159187  0.052174                 -0.016408   \n",
       "serum_sodium             -0.045966  0.041882                  0.059550   \n",
       "sex                       0.065430 -0.094769                  0.079791   \n",
       "smoking                   0.018668 -0.107290                  0.002421   \n",
       "time                     -0.224068 -0.141414                 -0.009346   \n",
       "DEATH_EVENT               0.253729  0.066270                  0.062728   \n",
       "\n",
       "                          diabetes  ejection_fraction  high_blood_pressure  \\\n",
       "age                      -0.101012           0.060098             0.093289   \n",
       "anaemia                  -0.012729           0.031557             0.038182   \n",
       "creatinine_phosphokinase -0.009639          -0.044080            -0.070590   \n",
       "diabetes                  1.000000          -0.004850            -0.012732   \n",
       "ejection_fraction        -0.004850           1.000000             0.024445   \n",
       "high_blood_pressure      -0.012732           0.024445             1.000000   \n",
       "platelets                 0.092193           0.072177             0.049963   \n",
       "serum_creatinine         -0.046975          -0.011302            -0.004935   \n",
       "serum_sodium             -0.089551           0.175902             0.037109   \n",
       "sex                      -0.157730          -0.148386            -0.104615   \n",
       "smoking                  -0.147173          -0.067315            -0.055711   \n",
       "time                      0.033726           0.041729            -0.196439   \n",
       "DEATH_EVENT              -0.001943          -0.268603             0.079351   \n",
       "\n",
       "                          platelets  serum_creatinine  serum_sodium       sex  \\\n",
       "age                       -0.052354          0.159187     -0.045966  0.065430   \n",
       "anaemia                   -0.043786          0.052174      0.041882 -0.094769   \n",
       "creatinine_phosphokinase   0.024463         -0.016408      0.059550  0.079791   \n",
       "diabetes                   0.092193         -0.046975     -0.089551 -0.157730   \n",
       "ejection_fraction          0.072177         -0.011302      0.175902 -0.148386   \n",
       "high_blood_pressure        0.049963         -0.004935      0.037109 -0.104615   \n",
       "platelets                  1.000000         -0.041198      0.062125 -0.125120   \n",
       "serum_creatinine          -0.041198          1.000000     -0.189095  0.006970   \n",
       "serum_sodium               0.062125         -0.189095      1.000000 -0.027566   \n",
       "sex                       -0.125120          0.006970     -0.027566  1.000000   \n",
       "smoking                    0.028234         -0.027414      0.004813  0.445892   \n",
       "time                       0.010514         -0.149315      0.087640 -0.015608   \n",
       "DEATH_EVENT               -0.049139          0.294278     -0.195204 -0.004316   \n",
       "\n",
       "                           smoking      time  DEATH_EVENT  \n",
       "age                       0.018668 -0.224068     0.253729  \n",
       "anaemia                  -0.107290 -0.141414     0.066270  \n",
       "creatinine_phosphokinase  0.002421 -0.009346     0.062728  \n",
       "diabetes                 -0.147173  0.033726    -0.001943  \n",
       "ejection_fraction        -0.067315  0.041729    -0.268603  \n",
       "high_blood_pressure      -0.055711 -0.196439     0.079351  \n",
       "platelets                 0.028234  0.010514    -0.049139  \n",
       "serum_creatinine         -0.027414 -0.149315     0.294278  \n",
       "serum_sodium              0.004813  0.087640    -0.195204  \n",
       "sex                       0.445892 -0.015608    -0.004316  \n",
       "smoking                   1.000000 -0.022839    -0.012623  \n",
       "time                     -0.022839  1.000000    -0.526964  \n",
       "DEATH_EVENT              -0.012623 -0.526964     1.000000  "
      ]
     },
     "execution_count": 31,
     "metadata": {},
     "output_type": "execute_result"
    }
   ],
   "source": [
    "df.corr()"
   ]
  },
  {
   "cell_type": "code",
   "execution_count": 32,
   "metadata": {},
   "outputs": [
    {
     "data": {
      "text/plain": [
       "<AxesSubplot:>"
      ]
     },
     "execution_count": 32,
     "metadata": {},
     "output_type": "execute_result"
    },
    {
     "data": {
      "image/png": "[encoded data removed]",
      "text/plain": [
       "<Figure size 1080x1440 with 2 Axes>"
      ]
     },
     "metadata": {
      "needs_background": "light"
     },
     "output_type": "display_data"
    }
   ],
   "source": [
    "plt.figure(figsize=(15,20))\n",
    "sns.heatmap(df.corr(),annot=True, cmap=\"YlGnBu\")"
   ]
  },
  {
   "cell_type": "code",
   "execution_count": 33,
   "metadata": {},
   "outputs": [
    {
     "data": {
      "image/png": "[encoded data removed]",
      "text/plain": [
       "<Figure size 720x432 with 1 Axes>"
      ]
     },
     "metadata": {
      "needs_background": "light"
     },
     "output_type": "display_data"
    }
   ],
   "source": [
    "fig,ax = plt.subplots(figsize=(10,6))\n",
    "korelasi = df.drop(columns=['DEATH_EVENT'], inplace=False).corrwith(df.DEATH_EVENT)\n",
    "korelasi.plot.bar(title='Korelasi Variabel terhadap DEATH_EVENT');"
   ]
  },
  {
   "cell_type": "code",
   "execution_count": 34,
   "metadata": {},
   "outputs": [
    {
     "data": {
      "text/plain": [
       "DEATH_EVENT                 1.000000\n",
       "serum_creatinine            0.294278\n",
       "age                         0.253729\n",
       "high_blood_pressure         0.079351\n",
       "anaemia                     0.066270\n",
       "creatinine_phosphokinase    0.062728\n",
       "diabetes                   -0.001943\n",
       "sex                        -0.004316\n",
       "smoking                    -0.012623\n",
       "platelets                  -0.049139\n",
       "serum_sodium               -0.195204\n",
       "ejection_fraction          -0.268603\n",
       "time                       -0.526964\n",
       "Name: DEATH_EVENT, dtype: float64"
      ]
     },
     "execution_count": 34,
     "metadata": {},
     "output_type": "execute_result"
    }
   ],
   "source": [
    "df.corr()['DEATH_EVENT'].sort_values(ascending=False)"
   ]
  },
  {
   "attachments": {},
   "cell_type": "markdown",
   "metadata": {},
   "source": [
    "Analisis :\n",
    "\n",
    "- Atribut yang memiliki korelasi tertinggi  yaitu atribut serum_creatinine,age,high_blood_pressure,anaemia,creatinine_phosphokinase\n",
    "- Atribut yang memiliki korelasi negatif yaitu atribut diabetes,sex,smoking,platelets,serum_sodium,ejection_fraction\n"
   ]
  },
  {
   "attachments": {},
   "cell_type": "markdown",
   "metadata": {},
   "source": [
    "# Data Preprocessing"
   ]
  },
  {
   "cell_type": "code",
   "execution_count": 35,
   "metadata": {},
   "outputs": [],
   "source": [
    "df_encode = [i for i in df.columns if i != 'DEATH_EVENT']"
   ]
  },
  {
   "attachments": {},
   "cell_type": "markdown",
   "metadata": {},
   "source": [
    "### Feature Scaling"
   ]
  },
  {
   "cell_type": "code",
   "execution_count": 36,
   "metadata": {},
   "outputs": [
    {
     "data": {
      "text/html": [
       "<div>\n",
       "<style scoped>\n",
       "    .dataframe tbody tr th:only-of-type {\n",
       "        vertical-align: middle;\n",
       "    }\n",
       "\n",
       "    .dataframe tbody tr th {\n",
       "        vertical-align: top;\n",
       "    }\n",
       "\n",
       "    .dataframe thead th {\n",
       "        text-align: right;\n",
       "    }\n",
       "</style>\n",
       "<table border=\"1\" class=\"dataframe\">\n",
       "  <thead>\n",
       "    <tr style=\"text-align: right;\">\n",
       "      <th></th>\n",
       "      <th>age</th>\n",
       "      <th>anaemia</th>\n",
       "      <th>creatinine_phosphokinase</th>\n",
       "      <th>diabetes</th>\n",
       "      <th>ejection_fraction</th>\n",
       "      <th>high_blood_pressure</th>\n",
       "      <th>platelets</th>\n",
       "      <th>serum_creatinine</th>\n",
       "      <th>serum_sodium</th>\n",
       "      <th>sex</th>\n",
       "      <th>smoking</th>\n",
       "      <th>time</th>\n",
       "      <th>DEATH_EVENT</th>\n",
       "    </tr>\n",
       "  </thead>\n",
       "  <tbody>\n",
       "    <tr>\n",
       "      <th>0</th>\n",
       "      <td>1.192945</td>\n",
       "      <td>-0.871105</td>\n",
       "      <td>0.000166</td>\n",
       "      <td>-0.847579</td>\n",
       "      <td>-1.530560</td>\n",
       "      <td>1.359272</td>\n",
       "      <td>1.681648e-02</td>\n",
       "      <td>0.490057</td>\n",
       "      <td>-1.504036</td>\n",
       "      <td>0.735688</td>\n",
       "      <td>-0.687682</td>\n",
       "      <td>-1.629502</td>\n",
       "      <td>1</td>\n",
       "    </tr>\n",
       "    <tr>\n",
       "      <th>1</th>\n",
       "      <td>-0.491279</td>\n",
       "      <td>-0.871105</td>\n",
       "      <td>7.514640</td>\n",
       "      <td>-0.847579</td>\n",
       "      <td>-0.007077</td>\n",
       "      <td>-0.735688</td>\n",
       "      <td>7.535660e-09</td>\n",
       "      <td>-0.284552</td>\n",
       "      <td>-0.141976</td>\n",
       "      <td>0.735688</td>\n",
       "      <td>-0.687682</td>\n",
       "      <td>-1.603691</td>\n",
       "      <td>1</td>\n",
       "    </tr>\n",
       "    <tr>\n",
       "      <th>2</th>\n",
       "      <td>0.350833</td>\n",
       "      <td>-0.871105</td>\n",
       "      <td>-0.449939</td>\n",
       "      <td>-0.847579</td>\n",
       "      <td>-1.530560</td>\n",
       "      <td>-0.735688</td>\n",
       "      <td>-1.038073e+00</td>\n",
       "      <td>-0.090900</td>\n",
       "      <td>-1.731046</td>\n",
       "      <td>0.735688</td>\n",
       "      <td>1.454161</td>\n",
       "      <td>-1.590785</td>\n",
       "      <td>1</td>\n",
       "    </tr>\n",
       "    <tr>\n",
       "      <th>3</th>\n",
       "      <td>-0.912335</td>\n",
       "      <td>1.147968</td>\n",
       "      <td>-0.486071</td>\n",
       "      <td>-0.847579</td>\n",
       "      <td>-1.530560</td>\n",
       "      <td>-0.735688</td>\n",
       "      <td>-5.464741e-01</td>\n",
       "      <td>0.490057</td>\n",
       "      <td>0.085034</td>\n",
       "      <td>0.735688</td>\n",
       "      <td>-0.687682</td>\n",
       "      <td>-1.590785</td>\n",
       "      <td>1</td>\n",
       "    </tr>\n",
       "    <tr>\n",
       "      <th>4</th>\n",
       "      <td>0.350833</td>\n",
       "      <td>1.147968</td>\n",
       "      <td>-0.435486</td>\n",
       "      <td>1.179830</td>\n",
       "      <td>-1.530560</td>\n",
       "      <td>-0.735688</td>\n",
       "      <td>6.517986e-01</td>\n",
       "      <td>1.264666</td>\n",
       "      <td>-4.682176</td>\n",
       "      <td>-1.359272</td>\n",
       "      <td>-0.687682</td>\n",
       "      <td>-1.577879</td>\n",
       "      <td>1</td>\n",
       "    </tr>\n",
       "  </tbody>\n",
       "</table>\n",
       "</div>"
      ],
      "text/plain": [
       "        age   anaemia  creatinine_phosphokinase  diabetes  ejection_fraction  \\\n",
       "0  1.192945 -0.871105                  0.000166 -0.847579          -1.530560   \n",
       "1 -0.491279 -0.871105                  7.514640 -0.847579          -0.007077   \n",
       "2  0.350833 -0.871105                 -0.449939 -0.847579          -1.530560   \n",
       "3 -0.912335  1.147968                 -0.486071 -0.847579          -1.530560   \n",
       "4  0.350833  1.147968                 -0.435486  1.179830          -1.530560   \n",
       "\n",
       "   high_blood_pressure     platelets  serum_creatinine  serum_sodium  \\\n",
       "0             1.359272  1.681648e-02          0.490057     -1.504036   \n",
       "1            -0.735688  7.535660e-09         -0.284552     -0.141976   \n",
       "2            -0.735688 -1.038073e+00         -0.090900     -1.731046   \n",
       "3            -0.735688 -5.464741e-01          0.490057      0.085034   \n",
       "4            -0.735688  6.517986e-01          1.264666     -4.682176   \n",
       "\n",
       "        sex   smoking      time  DEATH_EVENT  \n",
       "0  0.735688 -0.687682 -1.629502            1  \n",
       "1  0.735688 -0.687682 -1.603691            1  \n",
       "2  0.735688  1.454161 -1.590785            1  \n",
       "3  0.735688 -0.687682 -1.590785            1  \n",
       "4 -1.359272 -0.687682 -1.577879            1  "
      ]
     },
     "execution_count": 36,
     "metadata": {},
     "output_type": "execute_result"
    }
   ],
   "source": [
    "from sklearn.preprocessing import StandardScaler\n",
    "scaler = StandardScaler()\n",
    "df[df_encode] = scaler.fit_transform(df[df_encode])\n",
    "df.head()"
   ]
  },
  {
   "cell_type": "code",
   "execution_count": 37,
   "metadata": {},
   "outputs": [],
   "source": [
    "X = df.drop(['DEATH_EVENT'], axis=1)\n",
    "\n",
    "y = df ['DEATH_EVENT']"
   ]
  },
  {
   "attachments": {},
   "cell_type": "markdown",
   "metadata": {},
   "source": [
    "# Data Modeling"
   ]
  },
  {
   "attachments": {},
   "cell_type": "markdown",
   "metadata": {},
   "source": [
    "### Splitting Dataset"
   ]
  },
  {
   "cell_type": "code",
   "execution_count": 38,
   "metadata": {},
   "outputs": [],
   "source": [
    "# Split data 70:30\n",
    "X_train, X_test, y_train, y_test = train_test_split(\n",
    "    X, y, test_size=0.30, random_state=10)"
   ]
  },
  {
   "attachments": {},
   "cell_type": "markdown",
   "metadata": {},
   "source": [
    "## Random Forest"
   ]
  },
  {
   "cell_type": "code",
   "execution_count": 39,
   "metadata": {},
   "outputs": [
    {
     "name": "stdout",
     "output_type": "stream",
     "text": [
      "Accuracy Score: 0.8222222222222222\n",
      "              precision    recall  f1-score   support\n",
      "\n",
      "           0       0.88      0.85      0.87        61\n",
      "           1       0.71      0.76      0.73        29\n",
      "\n",
      "    accuracy                           0.82        90\n",
      "   macro avg       0.80      0.81      0.80        90\n",
      "weighted avg       0.83      0.82      0.82        90\n",
      "\n"
     ]
    }
   ],
   "source": [
    "random_forest = RandomForestClassifier(n_estimators=100)\n",
    "random_forest.fit(X_train, y_train)\n",
    "\n",
    "pred1  = random_forest.predict(X_test)\n",
    "\n",
    "print(\"Accuracy Score:\", accuracy_score(y_test, pred1))\n",
    "print(classification_report(y_test, pred1))"
   ]
  },
  {
   "cell_type": "code",
   "execution_count": 40,
   "metadata": {},
   "outputs": [
    {
     "data": {
      "image/png": "[encoded data removed]",
      "text/plain": [
       "<Figure size 432x288 with 2 Axes>"
      ]
     },
     "metadata": {
      "needs_background": "light"
     },
     "output_type": "display_data"
    }
   ],
   "source": [
    "# Menggunakan seaborn untuk CM\n",
    "cm = confusion_matrix(y_test, pred1)\n",
    "cm_label = pd.DataFrame(cm, columns = np.unique(y_test),\n",
    "                        index = np.unique(y_test))\n",
    "\n",
    "cm_label.index.name = 'Aktual'\n",
    "cm_label.columns.name = 'Prediksi'\n",
    "sns.heatmap(cm_label, annot=True, cmap='Reds', fmt='g');"
   ]
  },
  {
   "attachments": {},
   "cell_type": "markdown",
   "metadata": {},
   "source": [
    "## XGBClassifier"
   ]
  },
  {
   "cell_type": "code",
   "execution_count": 41,
   "metadata": {},
   "outputs": [
    {
     "name": "stdout",
     "output_type": "stream",
     "text": [
      "Accuracy Score: 0.8888888888888888\n",
      "              precision    recall  f1-score   support\n",
      "\n",
      "           0       0.90      0.93      0.92        61\n",
      "           1       0.85      0.79      0.82        29\n",
      "\n",
      "    accuracy                           0.89        90\n",
      "   macro avg       0.88      0.86      0.87        90\n",
      "weighted avg       0.89      0.89      0.89        90\n",
      "\n"
     ]
    }
   ],
   "source": [
    "xgb = XGBClassifier()\n",
    "xgb.fit(X_train, y_train)\n",
    "\n",
    "pred2  = xgb.predict(X_test)\n",
    "\n",
    "print(\"Accuracy Score:\", accuracy_score(y_test, pred2))\n",
    "print(classification_report(y_test, pred2))"
   ]
  },
  {
   "cell_type": "code",
   "execution_count": 42,
   "metadata": {},
   "outputs": [
    {
     "data": {
      "image/png": "[encoded data removed]",
      "text/plain": [
       "<Figure size 432x288 with 2 Axes>"
      ]
     },
     "metadata": {
      "needs_background": "light"
     },
     "output_type": "display_data"
    }
   ],
   "source": [
    "# Menggunakan seaborn untuk CM\n",
    "cm = confusion_matrix(y_test, pred2)\n",
    "cm_label = pd.DataFrame(cm, columns = np.unique(y_test),\n",
    "                        index = np.unique(y_test))\n",
    "\n",
    "cm_label.index.name = 'Aktual'\n",
    "cm_label.columns.name = 'Prediksi'\n",
    "sns.heatmap(cm_label, annot=True, cmap='Reds', fmt='g');"
   ]
  },
  {
   "attachments": {},
   "cell_type": "markdown",
   "metadata": {},
   "source": [
    "## Logistic Regression"
   ]
  },
  {
   "cell_type": "code",
   "execution_count": 43,
   "metadata": {},
   "outputs": [],
   "source": [
    "#menentukan model klasifikasi\n",
    "model= LogisticRegression()\n",
    "\n",
    "#training model\n",
    "model.fit(X_train, y_train)\n",
    "y_pred3 = model.predict(X_test)"
   ]
  },
  {
   "cell_type": "code",
   "execution_count": 44,
   "metadata": {},
   "outputs": [
    {
     "name": "stdout",
     "output_type": "stream",
     "text": [
      "Accuracy Score: 0.7777777777777778\n"
     ]
    }
   ],
   "source": [
    "#prediksi respon untuk dataset test\n",
    "y_pred3 = model.predict(X_test)\n",
    "\n",
    "#membuat hasil prediksi kematian akibat gagal ginjal\n",
    "test = X_test.copy()\n",
    "df_test = pd.DataFrame(test)\n",
    "df_test['predicted_Death_Event'] = y_pred3\n",
    "df_test.head(10)\n",
    "\n",
    "print(\"Accuracy Score:\", str(model.score(X_test, y_test)))"
   ]
  },
  {
   "attachments": {},
   "cell_type": "markdown",
   "metadata": {},
   "source": [
    "didapatkan akurasi yang cukup baik yaitu 70%"
   ]
  },
  {
   "attachments": {},
   "cell_type": "markdown",
   "metadata": {},
   "source": [
    "# Conclusions"
   ]
  },
  {
   "attachments": {},
   "cell_type": "markdown",
   "metadata": {},
   "source": [
    "1. Terdapat 12 atribut yang memengaruhi untuk memprediksi kematian akibat gagal jantung. \n",
    "2. Variabel atribut serum_creatinine, age, high_blood_pressure, anaemia, creatinine_phosphokinase yang paling berpengaruh terhadap death event.\n",
    "3. Model ensemble yang paling optimal menurut kami adalah yaitu model XGB Classifier diperoleh akurasi sebesar 0,88 dengan confusion matrix :\n",
    "    1. True Positives (Actual Positive:1 and Predict Positive:1) - 57\n",
    "    2. True Negatives (Actual Negative:0 and Predict Negative:0) - 23\n",
    "    3. False Positives (Actual Negative:0 but Predict Positive:1) - 4\n",
    "    4. False Negatives (Actual Positive:1 but Predict Negative:0) - 6"
   ]
  }
 ],
 "metadata": {
  "kernelspec": {
   "display_name": "Python 3",
   "language": "python",
   "name": "python3"
  },
  "language_info": {
   "codemirror_mode": {
    "name": "ipython",
    "version": 3
   },
   "file_extension": ".py",
   "mimetype": "text/x-python",
   "name": "python",
   "nbconvert_exporter": "python",
   "pygments_lexer": "ipython3",
   "version": "3.9.0"
  },
  "orig_nbformat": 4,
  "vscode": {
   "interpreter": {
    "hash": "5addf786bcd861d1ce5006f23111f8cbb206731e5b61b0a5632ba9e0252558a8"
   }
  }
 },
 "nbformat": 4,
 "nbformat_minor": 2
}
